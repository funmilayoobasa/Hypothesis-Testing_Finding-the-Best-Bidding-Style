{
  "cells": [
    {
      "cell_type": "markdown",
      "metadata": {
        "id": "J2oKjJCHlUm4"
      },
      "source": [
        "# Hypothesis Testing: Finding the Best Bidding Style"
      ]
    },
    {
      "cell_type": "markdown",
      "metadata": {
        "id": "ZiHPfM3dRB5n"
      },
      "source": [
        "# About Project"
      ]
    },
    {
      "cell_type": "markdown",
      "metadata": {
        "id": "nRHHRMYeKkBK"
      },
      "source": [
        "I analysed the A/B test data of a hypothetical company to determine the best bidding type for selling a product. I found the data on [Kaggle](https://www.kaggle.com/datasets/ilkeryildiz/example-dataset-for-ab-test) and felt it would be great for practice."
      ]
    },
    {
      "cell_type": "markdown",
      "metadata": {
        "id": "UIdIuwrCTJ8D"
      },
      "source": [
        "#### Scenario\n",
        "\n",
        "> A company recently introduced a new bidding type, “average bidding”, as an alternative to its existing bidding type, called “maximum bidding”. One of our clients, *anonymous.com*, has decided to test this new feature and wants to conduct an A/B test to understand if average bidding brings more conversions than maximum bidding. The A/B test has run for 1 month and anomnymous.com now expects you to analyze and present the results of this A/B test.\n",
        "\n",
        "The test displayed the different bidding styles as advertisement campaigns to two groups. Participants in the control group viewed the maximum bidding campaigns, and those in the test group viewed the average bidding campaigns."
      ]
    },
    {
      "cell_type": "markdown",
      "metadata": {
        "id": "5unPdDSxNqvm"
      },
      "source": [
        "#### Method\n",
        "\n",
        "I conducted a hypothesis test to determine which bidding type would increase conversions, in this case, the number of purchases.\n",
        "\n",
        "I asked: \n",
        "\n",
        "**Which bidding type leads to more purchases?**\n",
        "\n",
        "My hypotheses were: \n",
        "\n",
        "* **Null hypothesis**: There is no difference between the mean purchases of the control group and the test group.\n",
        "* **Alternative hypothesis**: There is a difference between the mean purchases of the control group and the test group. \n",
        "\n",
        "Alpha = 0.05 (5%)."
      ]
    },
    {
      "cell_type": "markdown",
      "metadata": {
        "id": "xajegjC7RHBI"
      },
      "source": [
        "# Let the Analysis Begin!"
      ]
    },
    {
      "cell_type": "markdown",
      "metadata": {
        "id": "vNJyUIDFlMsl"
      },
      "source": [
        "## Setting up the Environment"
      ]
    },
    {
      "cell_type": "code",
      "execution_count": 43,
      "metadata": {
        "id": "SX24UWFz9ijo"
      },
      "outputs": [],
      "source": [
        "import pandas as pd\n",
        "import numpy as np\n",
        "import matplotlib\n",
        "import matplotlib.pyplot as plt\n",
        "from matplotlib import figure\n",
        "import seaborn as sns\n",
        "import scipy.stats as st\n",
        "import statsmodels.api as sm\n",
        "\n",
        "matplotlib.rcParams['figure.figsize'] = (12,7)\n",
        "sns.set()"
      ]
    },
    {
      "cell_type": "code",
      "execution_count": 44,
      "metadata": {
        "colab": {
          "base_uri": "https://localhost:8080/",
          "height": 206
        },
        "id": "tKtb1mKf-sEY",
        "outputId": "c5620b2d-2519-49b8-b64c-1a6db87f2630"
      },
      "outputs": [
        {
          "data": {
            "text/html": [
              "<div>\n",
              "<style scoped>\n",
              "    .dataframe tbody tr th:only-of-type {\n",
              "        vertical-align: middle;\n",
              "    }\n",
              "\n",
              "    .dataframe tbody tr th {\n",
              "        vertical-align: top;\n",
              "    }\n",
              "\n",
              "    .dataframe thead th {\n",
              "        text-align: right;\n",
              "    }\n",
              "</style>\n",
              "<table border=\"1\" class=\"dataframe\">\n",
              "  <thead>\n",
              "    <tr style=\"text-align: right;\">\n",
              "      <th></th>\n",
              "      <th>Campaign Name</th>\n",
              "      <th>Date</th>\n",
              "      <th>Spend [USD]</th>\n",
              "      <th># of Impressions</th>\n",
              "      <th>Reach</th>\n",
              "      <th># of Website Clicks</th>\n",
              "      <th># of Searches</th>\n",
              "      <th># of View Content</th>\n",
              "      <th># of Add to Cart</th>\n",
              "      <th># of Purchase</th>\n",
              "    </tr>\n",
              "  </thead>\n",
              "  <tbody>\n",
              "    <tr>\n",
              "      <th>0</th>\n",
              "      <td>Control Campaign</td>\n",
              "      <td>1.08.2019</td>\n",
              "      <td>2280</td>\n",
              "      <td>82702.0</td>\n",
              "      <td>56930.0</td>\n",
              "      <td>7016.0</td>\n",
              "      <td>2290.0</td>\n",
              "      <td>2159.0</td>\n",
              "      <td>1819.0</td>\n",
              "      <td>618.0</td>\n",
              "    </tr>\n",
              "    <tr>\n",
              "      <th>1</th>\n",
              "      <td>Control Campaign</td>\n",
              "      <td>2.08.2019</td>\n",
              "      <td>1757</td>\n",
              "      <td>121040.0</td>\n",
              "      <td>102513.0</td>\n",
              "      <td>8110.0</td>\n",
              "      <td>2033.0</td>\n",
              "      <td>1841.0</td>\n",
              "      <td>1219.0</td>\n",
              "      <td>511.0</td>\n",
              "    </tr>\n",
              "    <tr>\n",
              "      <th>2</th>\n",
              "      <td>Control Campaign</td>\n",
              "      <td>3.08.2019</td>\n",
              "      <td>2343</td>\n",
              "      <td>131711.0</td>\n",
              "      <td>110862.0</td>\n",
              "      <td>6508.0</td>\n",
              "      <td>1737.0</td>\n",
              "      <td>1549.0</td>\n",
              "      <td>1134.0</td>\n",
              "      <td>372.0</td>\n",
              "    </tr>\n",
              "    <tr>\n",
              "      <th>3</th>\n",
              "      <td>Control Campaign</td>\n",
              "      <td>4.08.2019</td>\n",
              "      <td>1940</td>\n",
              "      <td>72878.0</td>\n",
              "      <td>61235.0</td>\n",
              "      <td>3065.0</td>\n",
              "      <td>1042.0</td>\n",
              "      <td>982.0</td>\n",
              "      <td>1183.0</td>\n",
              "      <td>340.0</td>\n",
              "    </tr>\n",
              "    <tr>\n",
              "      <th>4</th>\n",
              "      <td>Control Campaign</td>\n",
              "      <td>5.08.2019</td>\n",
              "      <td>1835</td>\n",
              "      <td>NaN</td>\n",
              "      <td>NaN</td>\n",
              "      <td>NaN</td>\n",
              "      <td>NaN</td>\n",
              "      <td>NaN</td>\n",
              "      <td>NaN</td>\n",
              "      <td>NaN</td>\n",
              "    </tr>\n",
              "  </tbody>\n",
              "</table>\n",
              "</div>"
            ],
            "text/plain": [
              "      Campaign Name       Date  Spend [USD]  # of Impressions     Reach  \\\n",
              "0  Control Campaign  1.08.2019         2280           82702.0   56930.0   \n",
              "1  Control Campaign  2.08.2019         1757          121040.0  102513.0   \n",
              "2  Control Campaign  3.08.2019         2343          131711.0  110862.0   \n",
              "3  Control Campaign  4.08.2019         1940           72878.0   61235.0   \n",
              "4  Control Campaign  5.08.2019         1835               NaN       NaN   \n",
              "\n",
              "   # of Website Clicks  # of Searches  # of View Content  # of Add to Cart  \\\n",
              "0               7016.0         2290.0             2159.0            1819.0   \n",
              "1               8110.0         2033.0             1841.0            1219.0   \n",
              "2               6508.0         1737.0             1549.0            1134.0   \n",
              "3               3065.0         1042.0              982.0            1183.0   \n",
              "4                  NaN            NaN                NaN               NaN   \n",
              "\n",
              "   # of Purchase  \n",
              "0          618.0  \n",
              "1          511.0  \n",
              "2          372.0  \n",
              "3          340.0  \n",
              "4            NaN  "
            ]
          },
          "execution_count": 44,
          "metadata": {},
          "output_type": "execute_result"
        }
      ],
      "source": [
        "control = pd.read_csv('control_group.csv')\n",
        "control.head()"
      ]
    },
    {
      "cell_type": "code",
      "execution_count": 45,
      "metadata": {
        "colab": {
          "base_uri": "https://localhost:8080/",
          "height": 206
        },
        "id": "Te8LxgHxBiDT",
        "outputId": "8a50b002-460b-4c9b-fc06-b52f5b19116d"
      },
      "outputs": [
        {
          "data": {
            "text/html": [
              "<div>\n",
              "<style scoped>\n",
              "    .dataframe tbody tr th:only-of-type {\n",
              "        vertical-align: middle;\n",
              "    }\n",
              "\n",
              "    .dataframe tbody tr th {\n",
              "        vertical-align: top;\n",
              "    }\n",
              "\n",
              "    .dataframe thead th {\n",
              "        text-align: right;\n",
              "    }\n",
              "</style>\n",
              "<table border=\"1\" class=\"dataframe\">\n",
              "  <thead>\n",
              "    <tr style=\"text-align: right;\">\n",
              "      <th></th>\n",
              "      <th>Campaign Name</th>\n",
              "      <th>Date</th>\n",
              "      <th>Spend [USD]</th>\n",
              "      <th># of Impressions</th>\n",
              "      <th>Reach</th>\n",
              "      <th># of Website Clicks</th>\n",
              "      <th># of Searches</th>\n",
              "      <th># of View Content</th>\n",
              "      <th># of Add to Cart</th>\n",
              "      <th># of Purchase</th>\n",
              "    </tr>\n",
              "  </thead>\n",
              "  <tbody>\n",
              "    <tr>\n",
              "      <th>0</th>\n",
              "      <td>Test Campaign</td>\n",
              "      <td>1.08.2019</td>\n",
              "      <td>3008</td>\n",
              "      <td>39550</td>\n",
              "      <td>35820</td>\n",
              "      <td>3038</td>\n",
              "      <td>1946</td>\n",
              "      <td>1069</td>\n",
              "      <td>894</td>\n",
              "      <td>255</td>\n",
              "    </tr>\n",
              "    <tr>\n",
              "      <th>1</th>\n",
              "      <td>Test Campaign</td>\n",
              "      <td>2.08.2019</td>\n",
              "      <td>2542</td>\n",
              "      <td>100719</td>\n",
              "      <td>91236</td>\n",
              "      <td>4657</td>\n",
              "      <td>2359</td>\n",
              "      <td>1548</td>\n",
              "      <td>879</td>\n",
              "      <td>677</td>\n",
              "    </tr>\n",
              "    <tr>\n",
              "      <th>2</th>\n",
              "      <td>Test Campaign</td>\n",
              "      <td>3.08.2019</td>\n",
              "      <td>2365</td>\n",
              "      <td>70263</td>\n",
              "      <td>45198</td>\n",
              "      <td>7885</td>\n",
              "      <td>2572</td>\n",
              "      <td>2367</td>\n",
              "      <td>1268</td>\n",
              "      <td>578</td>\n",
              "    </tr>\n",
              "    <tr>\n",
              "      <th>3</th>\n",
              "      <td>Test Campaign</td>\n",
              "      <td>4.08.2019</td>\n",
              "      <td>2710</td>\n",
              "      <td>78451</td>\n",
              "      <td>25937</td>\n",
              "      <td>4216</td>\n",
              "      <td>2216</td>\n",
              "      <td>1437</td>\n",
              "      <td>566</td>\n",
              "      <td>340</td>\n",
              "    </tr>\n",
              "    <tr>\n",
              "      <th>4</th>\n",
              "      <td>Test Campaign</td>\n",
              "      <td>5.08.2019</td>\n",
              "      <td>2297</td>\n",
              "      <td>114295</td>\n",
              "      <td>95138</td>\n",
              "      <td>5863</td>\n",
              "      <td>2106</td>\n",
              "      <td>858</td>\n",
              "      <td>956</td>\n",
              "      <td>768</td>\n",
              "    </tr>\n",
              "  </tbody>\n",
              "</table>\n",
              "</div>"
            ],
            "text/plain": [
              "   Campaign Name       Date  Spend [USD]  # of Impressions  Reach  \\\n",
              "0  Test Campaign  1.08.2019         3008             39550  35820   \n",
              "1  Test Campaign  2.08.2019         2542            100719  91236   \n",
              "2  Test Campaign  3.08.2019         2365             70263  45198   \n",
              "3  Test Campaign  4.08.2019         2710             78451  25937   \n",
              "4  Test Campaign  5.08.2019         2297            114295  95138   \n",
              "\n",
              "   # of Website Clicks  # of Searches  # of View Content  # of Add to Cart  \\\n",
              "0                 3038           1946               1069               894   \n",
              "1                 4657           2359               1548               879   \n",
              "2                 7885           2572               2367              1268   \n",
              "3                 4216           2216               1437               566   \n",
              "4                 5863           2106                858               956   \n",
              "\n",
              "   # of Purchase  \n",
              "0            255  \n",
              "1            677  \n",
              "2            578  \n",
              "3            340  \n",
              "4            768  "
            ]
          },
          "execution_count": 45,
          "metadata": {},
          "output_type": "execute_result"
        }
      ],
      "source": [
        "test = pd.read_csv('test_group.csv')\n",
        "test.head()"
      ]
    },
    {
      "cell_type": "code",
      "execution_count": 46,
      "metadata": {
        "colab": {
          "base_uri": "https://localhost:8080/",
          "height": 206
        },
        "id": "Lxg8ur2759lQ",
        "outputId": "23313e74-f612-4367-ac32-3e63c529e2b5"
      },
      "outputs": [
        {
          "data": {
            "text/html": [
              "<div>\n",
              "<style scoped>\n",
              "    .dataframe tbody tr th:only-of-type {\n",
              "        vertical-align: middle;\n",
              "    }\n",
              "\n",
              "    .dataframe tbody tr th {\n",
              "        vertical-align: top;\n",
              "    }\n",
              "\n",
              "    .dataframe thead th {\n",
              "        text-align: right;\n",
              "    }\n",
              "</style>\n",
              "<table border=\"1\" class=\"dataframe\">\n",
              "  <thead>\n",
              "    <tr style=\"text-align: right;\">\n",
              "      <th></th>\n",
              "      <th>Campaign Name</th>\n",
              "      <th>Date</th>\n",
              "      <th>Spend [USD]</th>\n",
              "      <th># of Impressions</th>\n",
              "      <th>Reach</th>\n",
              "      <th># of Website Clicks</th>\n",
              "      <th># of Searches</th>\n",
              "      <th># of View Content</th>\n",
              "      <th># of Add to Cart</th>\n",
              "      <th># of Purchase</th>\n",
              "    </tr>\n",
              "  </thead>\n",
              "  <tbody>\n",
              "    <tr>\n",
              "      <th>0</th>\n",
              "      <td>Control Campaign</td>\n",
              "      <td>1.08.2019</td>\n",
              "      <td>2280</td>\n",
              "      <td>82702.0</td>\n",
              "      <td>56930.0</td>\n",
              "      <td>7016.0</td>\n",
              "      <td>2290.0</td>\n",
              "      <td>2159.0</td>\n",
              "      <td>1819.0</td>\n",
              "      <td>618.0</td>\n",
              "    </tr>\n",
              "    <tr>\n",
              "      <th>1</th>\n",
              "      <td>Control Campaign</td>\n",
              "      <td>2.08.2019</td>\n",
              "      <td>1757</td>\n",
              "      <td>121040.0</td>\n",
              "      <td>102513.0</td>\n",
              "      <td>8110.0</td>\n",
              "      <td>2033.0</td>\n",
              "      <td>1841.0</td>\n",
              "      <td>1219.0</td>\n",
              "      <td>511.0</td>\n",
              "    </tr>\n",
              "    <tr>\n",
              "      <th>2</th>\n",
              "      <td>Control Campaign</td>\n",
              "      <td>3.08.2019</td>\n",
              "      <td>2343</td>\n",
              "      <td>131711.0</td>\n",
              "      <td>110862.0</td>\n",
              "      <td>6508.0</td>\n",
              "      <td>1737.0</td>\n",
              "      <td>1549.0</td>\n",
              "      <td>1134.0</td>\n",
              "      <td>372.0</td>\n",
              "    </tr>\n",
              "    <tr>\n",
              "      <th>3</th>\n",
              "      <td>Control Campaign</td>\n",
              "      <td>4.08.2019</td>\n",
              "      <td>1940</td>\n",
              "      <td>72878.0</td>\n",
              "      <td>61235.0</td>\n",
              "      <td>3065.0</td>\n",
              "      <td>1042.0</td>\n",
              "      <td>982.0</td>\n",
              "      <td>1183.0</td>\n",
              "      <td>340.0</td>\n",
              "    </tr>\n",
              "    <tr>\n",
              "      <th>4</th>\n",
              "      <td>Control Campaign</td>\n",
              "      <td>5.08.2019</td>\n",
              "      <td>1835</td>\n",
              "      <td>NaN</td>\n",
              "      <td>NaN</td>\n",
              "      <td>NaN</td>\n",
              "      <td>NaN</td>\n",
              "      <td>NaN</td>\n",
              "      <td>NaN</td>\n",
              "      <td>NaN</td>\n",
              "    </tr>\n",
              "  </tbody>\n",
              "</table>\n",
              "</div>"
            ],
            "text/plain": [
              "      Campaign Name       Date  Spend [USD]  # of Impressions     Reach  \\\n",
              "0  Control Campaign  1.08.2019         2280           82702.0   56930.0   \n",
              "1  Control Campaign  2.08.2019         1757          121040.0  102513.0   \n",
              "2  Control Campaign  3.08.2019         2343          131711.0  110862.0   \n",
              "3  Control Campaign  4.08.2019         1940           72878.0   61235.0   \n",
              "4  Control Campaign  5.08.2019         1835               NaN       NaN   \n",
              "\n",
              "   # of Website Clicks  # of Searches  # of View Content  # of Add to Cart  \\\n",
              "0               7016.0         2290.0             2159.0            1819.0   \n",
              "1               8110.0         2033.0             1841.0            1219.0   \n",
              "2               6508.0         1737.0             1549.0            1134.0   \n",
              "3               3065.0         1042.0              982.0            1183.0   \n",
              "4                  NaN            NaN                NaN               NaN   \n",
              "\n",
              "   # of Purchase  \n",
              "0          618.0  \n",
              "1          511.0  \n",
              "2          372.0  \n",
              "3          340.0  \n",
              "4            NaN  "
            ]
          },
          "execution_count": 46,
          "metadata": {},
          "output_type": "execute_result"
        }
      ],
      "source": [
        "# merge tables vertically\n",
        "control_test = pd.concat([control, test], ignore_index = True, sort=False)\n",
        "control_test.head()"
      ]
    },
    {
      "cell_type": "markdown",
      "metadata": {
        "id": "q2s1mIvNlmQl"
      },
      "source": [
        "## Cleaning the Data"
      ]
    },
    {
      "cell_type": "markdown",
      "metadata": {
        "id": "Her31-D0Ro6-"
      },
      "source": [
        "The data needs to cleaning. Some values in the dataset are decimals instead of whole numbers, the date format is incorrect, and the names of some columns are unconventional (those with '# of '). Furthermore, the dataset has null values, and I will have to confirm if there are any duplicates."
      ]
    },
    {
      "cell_type": "code",
      "execution_count": 47,
      "metadata": {
        "colab": {
          "base_uri": "https://localhost:8080/"
        },
        "id": "lJzu-8_-CMnP",
        "outputId": "9affd8a6-b931-417f-b0f6-4ce2087e9c94"
      },
      "outputs": [
        {
          "name": "stdout",
          "output_type": "stream",
          "text": [
            "<class 'pandas.core.frame.DataFrame'>\n",
            "RangeIndex: 60 entries, 0 to 59\n",
            "Data columns (total 10 columns):\n",
            " #   Column               Non-Null Count  Dtype  \n",
            "---  ------               --------------  -----  \n",
            " 0   Campaign Name        60 non-null     object \n",
            " 1   Date                 60 non-null     object \n",
            " 2   Spend [USD]          60 non-null     int64  \n",
            " 3   # of Impressions     59 non-null     float64\n",
            " 4   Reach                59 non-null     float64\n",
            " 5   # of Website Clicks  59 non-null     float64\n",
            " 6   # of Searches        59 non-null     float64\n",
            " 7   # of View Content    59 non-null     float64\n",
            " 8   # of Add to Cart     59 non-null     float64\n",
            " 9   # of Purchase        59 non-null     float64\n",
            "dtypes: float64(7), int64(1), object(2)\n",
            "memory usage: 4.8+ KB\n"
          ]
        }
      ],
      "source": [
        "control_test.info()"
      ]
    },
    {
      "cell_type": "markdown",
      "metadata": {
        "id": "icBU3Z1pTlHy"
      },
      "source": [
        "### Check for Duplicates"
      ]
    },
    {
      "cell_type": "code",
      "execution_count": 48,
      "metadata": {
        "colab": {
          "base_uri": "https://localhost:8080/",
          "height": 49
        },
        "id": "qLoo8jQ2ToBk",
        "outputId": "b9ff388e-5786-465a-e873-57b383424ada"
      },
      "outputs": [
        {
          "data": {
            "text/html": [
              "<div>\n",
              "<style scoped>\n",
              "    .dataframe tbody tr th:only-of-type {\n",
              "        vertical-align: middle;\n",
              "    }\n",
              "\n",
              "    .dataframe tbody tr th {\n",
              "        vertical-align: top;\n",
              "    }\n",
              "\n",
              "    .dataframe thead th {\n",
              "        text-align: right;\n",
              "    }\n",
              "</style>\n",
              "<table border=\"1\" class=\"dataframe\">\n",
              "  <thead>\n",
              "    <tr style=\"text-align: right;\">\n",
              "      <th></th>\n",
              "      <th>Campaign Name</th>\n",
              "      <th>Date</th>\n",
              "      <th>Spend [USD]</th>\n",
              "      <th># of Impressions</th>\n",
              "      <th>Reach</th>\n",
              "      <th># of Website Clicks</th>\n",
              "      <th># of Searches</th>\n",
              "      <th># of View Content</th>\n",
              "      <th># of Add to Cart</th>\n",
              "      <th># of Purchase</th>\n",
              "    </tr>\n",
              "  </thead>\n",
              "  <tbody>\n",
              "  </tbody>\n",
              "</table>\n",
              "</div>"
            ],
            "text/plain": [
              "Empty DataFrame\n",
              "Columns: [Campaign Name, Date, Spend [USD], # of Impressions, Reach, # of Website Clicks, # of Searches, # of View Content, # of Add to Cart, # of Purchase]\n",
              "Index: []"
            ]
          },
          "execution_count": 48,
          "metadata": {},
          "output_type": "execute_result"
        }
      ],
      "source": [
        "control_test[control_test.duplicated()]"
      ]
    },
    {
      "cell_type": "markdown",
      "metadata": {
        "id": "l07xRcHnUShM"
      },
      "source": [
        "Fortunately, there are no duplicates in this dataset."
      ]
    },
    {
      "cell_type": "markdown",
      "metadata": {
        "id": "g8TPwYHTFtT3"
      },
      "source": [
        "### Drop Null Values"
      ]
    },
    {
      "cell_type": "code",
      "execution_count": 49,
      "metadata": {
        "colab": {
          "base_uri": "https://localhost:8080/"
        },
        "id": "gRviSMd__Xnp",
        "outputId": "8e4c281a-6b2a-458f-ca2b-c01006940f80"
      },
      "outputs": [
        {
          "data": {
            "text/plain": [
              "(58, 10)"
            ]
          },
          "execution_count": 49,
          "metadata": {},
          "output_type": "execute_result"
        }
      ],
      "source": [
        "# discover column with null values\n",
        "control_test[control_test.isnull().any(axis='columns')]\n",
        "\n",
        "# there's no data for fifth day of the month. \n",
        "# find fifth day of the control & test groups\n",
        "control_test[control_test['Date'] == '2019-08-05']\n",
        "\n",
        "# remove fifth day from control and test groups\n",
        "control_test.drop([4, 34], axis=0, inplace=True)\n",
        "\n",
        "# confirm if columns have been removed\n",
        "control_test.shape"
      ]
    },
    {
      "cell_type": "markdown",
      "metadata": {
        "id": "Gtrutdz0F0Lb"
      },
      "source": [
        "### Change Data Types"
      ]
    },
    {
      "cell_type": "code",
      "execution_count": 50,
      "metadata": {
        "colab": {
          "base_uri": "https://localhost:8080/",
          "height": 81
        },
        "id": "LgKXxZTDF2xA",
        "outputId": "e792384a-d8b1-4eea-f2a6-4de2fe794540"
      },
      "outputs": [
        {
          "data": {
            "text/html": [
              "<div>\n",
              "<style scoped>\n",
              "    .dataframe tbody tr th:only-of-type {\n",
              "        vertical-align: middle;\n",
              "    }\n",
              "\n",
              "    .dataframe tbody tr th {\n",
              "        vertical-align: top;\n",
              "    }\n",
              "\n",
              "    .dataframe thead th {\n",
              "        text-align: right;\n",
              "    }\n",
              "</style>\n",
              "<table border=\"1\" class=\"dataframe\">\n",
              "  <thead>\n",
              "    <tr style=\"text-align: right;\">\n",
              "      <th></th>\n",
              "      <th>Campaign Name</th>\n",
              "      <th>Date</th>\n",
              "      <th>Spend [USD]</th>\n",
              "      <th># of Impressions</th>\n",
              "      <th>Reach</th>\n",
              "      <th># of Website Clicks</th>\n",
              "      <th># of Searches</th>\n",
              "      <th># of View Content</th>\n",
              "      <th># of Add to Cart</th>\n",
              "      <th># of Purchase</th>\n",
              "    </tr>\n",
              "  </thead>\n",
              "  <tbody>\n",
              "    <tr>\n",
              "      <th>18</th>\n",
              "      <td>Control Campaign</td>\n",
              "      <td>19.08.2019</td>\n",
              "      <td>2596</td>\n",
              "      <td>107890</td>\n",
              "      <td>81268</td>\n",
              "      <td>3706</td>\n",
              "      <td>2483</td>\n",
              "      <td>2098</td>\n",
              "      <td>908</td>\n",
              "      <td>542</td>\n",
              "    </tr>\n",
              "  </tbody>\n",
              "</table>\n",
              "</div>"
            ],
            "text/plain": [
              "       Campaign Name        Date  Spend [USD]  # of Impressions  Reach  \\\n",
              "18  Control Campaign  19.08.2019         2596            107890  81268   \n",
              "\n",
              "    # of Website Clicks  # of Searches  # of View Content  # of Add to Cart  \\\n",
              "18                 3706           2483               2098               908   \n",
              "\n",
              "    # of Purchase  \n",
              "18            542  "
            ]
          },
          "execution_count": 50,
          "metadata": {},
          "output_type": "execute_result"
        }
      ],
      "source": [
        "# change decimals to integers\n",
        "control_test.loc[:, '# of Impressions':'# of Purchase'] = control_test.loc[:, '# of Impressions':'# of Purchase'].astype(int)\n",
        "control_test.sample()"
      ]
    },
    {
      "cell_type": "code",
      "execution_count": 51,
      "metadata": {
        "colab": {
          "base_uri": "https://localhost:8080/"
        },
        "id": "OYDbbPQyFPN7",
        "outputId": "29704d0c-685f-4324-e55d-fe3b913c20b8"
      },
      "outputs": [
        {
          "data": {
            "text/plain": [
              "12   2019-08-13\n",
              "Name: Date, dtype: datetime64[ns]"
            ]
          },
          "execution_count": 51,
          "metadata": {},
          "output_type": "execute_result"
        }
      ],
      "source": [
        "# change format of date\n",
        "control_test['Date'] = pd.to_datetime(control_test['Date'], format= '%d.%m.%Y')\n",
        "control_test['Date'].sample()"
      ]
    },
    {
      "cell_type": "code",
      "execution_count": 52,
      "metadata": {
        "id": "OgRN7tB9am0x"
      },
      "outputs": [
        {
          "data": {
            "text/plain": [
              "Index(['Campaign Name', 'Date', 'Spend [USD]', 'Impressions', 'Reach',\n",
              "       'Website Clicks', 'Searches', 'View Content', 'Add to Cart',\n",
              "       'Purchase'],\n",
              "      dtype='object')"
            ]
          },
          "execution_count": 52,
          "metadata": {},
          "output_type": "execute_result"
        }
      ],
      "source": [
        "# modify column names with '# of'\n",
        "control_test.columns = control_test.columns.str.replace('# of ', '')\n",
        "control_test.columns"
      ]
    },
    {
      "cell_type": "code",
      "execution_count": 53,
      "metadata": {
        "colab": {
          "base_uri": "https://localhost:8080/"
        },
        "id": "SeKvGSnOCbBc",
        "outputId": "d53fd26c-e095-48c6-db6e-182ea2a480fa"
      },
      "outputs": [
        {
          "name": "stdout",
          "output_type": "stream",
          "text": [
            "<class 'pandas.core.frame.DataFrame'>\n",
            "Int64Index: 58 entries, 0 to 59\n",
            "Data columns (total 10 columns):\n",
            " #   Column          Non-Null Count  Dtype         \n",
            "---  ------          --------------  -----         \n",
            " 0   Campaign Name   58 non-null     object        \n",
            " 1   Date            58 non-null     datetime64[ns]\n",
            " 2   Spend [USD]     58 non-null     int64         \n",
            " 3   Impressions     58 non-null     int32         \n",
            " 4   Reach           58 non-null     int32         \n",
            " 5   Website Clicks  58 non-null     int32         \n",
            " 6   Searches        58 non-null     int32         \n",
            " 7   View Content    58 non-null     int32         \n",
            " 8   Add to Cart     58 non-null     int32         \n",
            " 9   Purchase        58 non-null     int32         \n",
            "dtypes: datetime64[ns](1), int32(7), int64(1), object(1)\n",
            "memory usage: 3.4+ KB\n"
          ]
        }
      ],
      "source": [
        "# ensure changes were implemented\n",
        "control_test.info()"
      ]
    },
    {
      "cell_type": "markdown",
      "metadata": {
        "id": "_j0jI-MplxmJ"
      },
      "source": [
        "That is it as per cleaning the data."
      ]
    },
    {
      "cell_type": "code",
      "execution_count": 54,
      "metadata": {
        "id": "Czh6hsWeZy60"
      },
      "outputs": [],
      "source": [
        "# Filter out purchase column for each group and convert to numpy arrays\n",
        "control_purchases = control_test.loc[control_test['Campaign Name'] == 'Control Campaign', 'Purchase']\n",
        "test_purchases = control_test.loc[control_test['Campaign Name'] == 'Test Campaign', 'Purchase']"
      ]
    },
    {
      "cell_type": "markdown",
      "metadata": {
        "id": "cw3XDymsl6BG"
      },
      "source": [
        "## Descriptive Statisitcs"
      ]
    },
    {
      "cell_type": "markdown",
      "metadata": {},
      "source": [
        "What is the data saying? "
      ]
    },
    {
      "cell_type": "code",
      "execution_count": 55,
      "metadata": {
        "colab": {
          "base_uri": "https://localhost:8080/",
          "height": 175
        },
        "id": "gER-0_eqIVeH",
        "outputId": "cdef9cc0-ec1d-4af8-e0c1-e0e6317f4650"
      },
      "outputs": [
        {
          "data": {
            "text/html": [
              "<div>\n",
              "<style scoped>\n",
              "    .dataframe tbody tr th:only-of-type {\n",
              "        vertical-align: middle;\n",
              "    }\n",
              "\n",
              "    .dataframe tbody tr th {\n",
              "        vertical-align: top;\n",
              "    }\n",
              "\n",
              "    .dataframe thead tr th {\n",
              "        text-align: left;\n",
              "    }\n",
              "\n",
              "    .dataframe thead tr:last-of-type th {\n",
              "        text-align: right;\n",
              "    }\n",
              "</style>\n",
              "<table border=\"1\" class=\"dataframe\">\n",
              "  <thead>\n",
              "    <tr>\n",
              "      <th></th>\n",
              "      <th colspan=\"9\" halign=\"left\">Purchase</th>\n",
              "    </tr>\n",
              "    <tr>\n",
              "      <th></th>\n",
              "      <th>count</th>\n",
              "      <th>mean</th>\n",
              "      <th>std</th>\n",
              "      <th>var</th>\n",
              "      <th>min</th>\n",
              "      <th>median</th>\n",
              "      <th>max</th>\n",
              "      <th>skew</th>\n",
              "      <th>sum</th>\n",
              "    </tr>\n",
              "    <tr>\n",
              "      <th>Campaign Name</th>\n",
              "      <th></th>\n",
              "      <th></th>\n",
              "      <th></th>\n",
              "      <th></th>\n",
              "      <th></th>\n",
              "      <th></th>\n",
              "      <th></th>\n",
              "      <th></th>\n",
              "      <th></th>\n",
              "    </tr>\n",
              "  </thead>\n",
              "  <tbody>\n",
              "    <tr>\n",
              "      <th>Control Campaign</th>\n",
              "      <td>29</td>\n",
              "      <td>522.793103</td>\n",
              "      <td>185.028642</td>\n",
              "      <td>34235.598522</td>\n",
              "      <td>222</td>\n",
              "      <td>501.0</td>\n",
              "      <td>800</td>\n",
              "      <td>0.073670</td>\n",
              "      <td>15161</td>\n",
              "    </tr>\n",
              "    <tr>\n",
              "      <th>Test Campaign</th>\n",
              "      <td>29</td>\n",
              "      <td>512.724138</td>\n",
              "      <td>209.480633</td>\n",
              "      <td>43882.135468</td>\n",
              "      <td>238</td>\n",
              "      <td>488.0</td>\n",
              "      <td>890</td>\n",
              "      <td>0.157106</td>\n",
              "      <td>14869</td>\n",
              "    </tr>\n",
              "  </tbody>\n",
              "</table>\n",
              "</div>"
            ],
            "text/plain": [
              "                 Purchase                                                    \\\n",
              "                    count        mean         std           var  min median   \n",
              "Campaign Name                                                                 \n",
              "Control Campaign       29  522.793103  185.028642  34235.598522  222  501.0   \n",
              "Test Campaign          29  512.724138  209.480633  43882.135468  238  488.0   \n",
              "\n",
              "                                        \n",
              "                  max      skew    sum  \n",
              "Campaign Name                           \n",
              "Control Campaign  800  0.073670  15161  \n",
              "Test Campaign     890  0.157106  14869  "
            ]
          },
          "execution_count": 55,
          "metadata": {},
          "output_type": "execute_result"
        }
      ],
      "source": [
        "control_test.groupby('Campaign Name').agg({'Purchase': ['count', 'mean', 'std', 'var', 'min', 'median', 'max', 'skew', 'sum']})"
      ]
    },
    {
      "cell_type": "code",
      "execution_count": 56,
      "metadata": {
        "colab": {
          "base_uri": "https://localhost:8080/",
          "height": 664
        },
        "id": "GAmIYt0jND_1",
        "outputId": "13e23ef0-efe2-4028-d4ec-56afc228d2c5"
      },
      "outputs": [
        {
          "data": {
            "image/png": "[encoded data removed]",
            "text/plain": [
              "<Figure size 864x504 with 1 Axes>"
            ]
          },
          "metadata": {},
          "output_type": "display_data"
        }
      ],
      "source": [
        "sns.boxplot(x='Campaign Name', y='Purchase', data=control_test)\n",
        "plt.xlabel('Campaign Name', fontdict = {'fontsize': 16}, labelpad=20)\n",
        "plt.ylabel('Purchases', fontdict = {'fontsize': 16}, labelpad=20)\n",
        "plt.title('Boxplot for Control & Test Groups', fontdict = {'fontsize': 20}, pad=20)\n",
        "plt.show()"
      ]
    },
    {
      "cell_type": "markdown",
      "metadata": {},
      "source": [
        "The mean purchase of the control group is more than that of the test group. However, purchase data for the test group is more spread out. There are indications that both distributions are abnormal and skewed to the right. But, the test group has more skew than the control group. "
      ]
    },
    {
      "cell_type": "markdown",
      "metadata": {
        "id": "1Hhxpar1mNUB"
      },
      "source": [
        "### The Difference between Both Groups"
      ]
    },
    {
      "cell_type": "code",
      "execution_count": 57,
      "metadata": {
        "colab": {
          "base_uri": "https://localhost:8080/"
        },
        "id": "FUitRFcekaVU",
        "outputId": "921dadae-c226-480f-f5d9-cccacd2c96ea"
      },
      "outputs": [
        {
          "data": {
            "text/plain": [
              "-10.068965517241281"
            ]
          },
          "execution_count": 57,
          "metadata": {},
          "output_type": "execute_result"
        }
      ],
      "source": [
        "test_purchases.mean() - control_purchases.mean()"
      ]
    },
    {
      "cell_type": "markdown",
      "metadata": {
        "id": "f9oWi3qPdof5"
      },
      "source": [
        "On the surface, the control group has more purchases than the test group. The mean difference is -10. It is easy to conclude that there is no need to adopt the average bidding style. But, we need to know if this difference is significant enough or due to random chance. \n",
        "\n",
        "Now, the hypothesis test can come in. "
      ]
    },
    {
      "cell_type": "markdown",
      "metadata": {},
      "source": [
        "# Selecting the Hypothesis Test"
      ]
    },
    {
      "cell_type": "markdown",
      "metadata": {
        "id": "blDBhEPsVR7D"
      },
      "source": [
        "The selection of the test will depend on two things: \n",
        "* The Sample size.\n",
        "* The Shape of the data."
      ]
    },
    {
      "cell_type": "markdown",
      "metadata": {
        "id": "rt6xtDsqnB8u"
      },
      "source": [
        "## Sample size"
      ]
    },
    {
      "cell_type": "markdown",
      "metadata": {
        "id": "Hib79-OMX0vN"
      },
      "source": [
        "I calculated the sample size by summing each value in the 'Reach' column which contains data for the number of unique people who saw a particular bidding type. The sample sums up to 4,086,112 participants. Though, both groups do not have the same sample size. The control group consists of 2,576,503 people, and the test group has 1,509,609 people."
      ]
    },
    {
      "cell_type": "code",
      "execution_count": 58,
      "metadata": {
        "colab": {
          "base_uri": "https://localhost:8080/",
          "height": 664
        },
        "id": "qcX5fIjQOGEX",
        "outputId": "37e64bb9-db1e-434d-e453-9fe9419bd3b3"
      },
      "outputs": [
        {
          "data": {
            "image/png": "[encoded data removed]",
            "text/plain": [
              "<Figure size 864x504 with 1 Axes>"
            ]
          },
          "metadata": {},
          "output_type": "display_data"
        }
      ],
      "source": [
        "control_test.groupby('Campaign Name').agg({'Reach':'sum'}).plot(kind='bar')\n",
        "plt.xticks(rotation = 360)\n",
        "plt.xlabel('Campaign Name', fontdict = {'fontsize': 16}, labelpad=20)\n",
        "plt.ylabel('Reach (in millions)', fontdict = {'fontsize': 16}, labelpad=20)\n",
        "plt.title('Sample Size of both groups', fontdict = {'fontsize': 20}, pad=20)\n",
        "plt.legend().remove()\n",
        "plt.show()\n"
      ]
    },
    {
      "cell_type": "markdown",
      "metadata": {},
      "source": [
        "Although the test group has fewer participants, its bidding style is more expensive to advertise. Average bidding costs $74,595, while maximum bidding costs $66,818. It begs the question: \n",
        "\n",
        "**Did the cost of each bidding ad affect the sample size?** "
      ]
    },
    {
      "cell_type": "code",
      "execution_count": 59,
      "metadata": {},
      "outputs": [
        {
          "name": "stdout",
          "output_type": "stream",
          "text": [
            "Test Spend:  $ 74595 \n",
            "Control Spend:  $ 66818\n"
          ]
        }
      ],
      "source": [
        "# Spend of control and test groups\n",
        "print('Test Spend: ', '$', control_test.loc[control_test['Campaign Name'] == 'Test Campaign', 'Spend [USD]'].sum(), '\\nControl Spend: ', '$', control_test.loc[control_test['Campaign Name'] == 'Control Campaign', 'Spend [USD]'].sum())"
      ]
    },
    {
      "cell_type": "markdown",
      "metadata": {},
      "source": [
        "Here's another question to consider:\n",
        "\n",
        "**Is the average bidding worth its cost?**"
      ]
    },
    {
      "cell_type": "markdown",
      "metadata": {
        "id": "kvJeput3L0kA"
      },
      "source": [
        "## Shape of the Data"
      ]
    },
    {
      "cell_type": "markdown",
      "metadata": {
        "id": "Pu1ljJ4FYFzz"
      },
      "source": [
        "### Histogram"
      ]
    },
    {
      "cell_type": "markdown",
      "metadata": {
        "id": "nRCsAcqdYSWh"
      },
      "source": [
        "The most common way to determine the shape of your data is by plotting it on a histogram. "
      ]
    },
    {
      "cell_type": "code",
      "execution_count": 60,
      "metadata": {
        "colab": {
          "base_uri": "https://localhost:8080/",
          "height": 664
        },
        "id": "Iei_HBy-6PP2",
        "outputId": "20ad97c5-f224-4ce1-e37c-413b2d5e851f"
      },
      "outputs": [
        {
          "data": {
            "image/png": "[encoded data removed]",
            "text/plain": [
              "<Figure size 864x504 with 1 Axes>"
            ]
          },
          "metadata": {},
          "output_type": "display_data"
        }
      ],
      "source": [
        "test_purchases.hist(alpha=0.75)\n",
        "control_purchases.hist(alpha=0.75)\n",
        "plt.xlabel('Purchases', fontdict = {'fontsize': 16}, labelpad=20)\n",
        "plt.ylabel('Frequency', fontdict = {'fontsize': 16}, labelpad=20)\n",
        "plt.title('Histograms for Control & Test Groups', fontdict = {'fontsize': 20}, pad=20)\n",
        "plt.legend(['Test', 'Control'])\n",
        "plt.show()"
      ]
    },
    {
      "cell_type": "markdown",
      "metadata": {
        "id": "IIAbMxf9ZIVA"
      },
      "source": [
        "The histogram reveals that the data for both groups is abnormal. But I decided to plot the data on a quantile-quantile plot to confirm this revelation."
      ]
    },
    {
      "cell_type": "markdown",
      "metadata": {
        "id": "dbQsgm80wMux"
      },
      "source": [
        "### Q-Q Plot"
      ]
    },
    {
      "cell_type": "code",
      "execution_count": 61,
      "metadata": {
        "colab": {
          "base_uri": "https://localhost:8080/",
          "height": 664
        },
        "id": "QGMLTHv1nXAu",
        "outputId": "4a94f439-9ae8-48fa-b80a-6c903ebe380c"
      },
      "outputs": [
        {
          "data": {
            "image/png": "[encoded data removed]",
            "text/plain": [
              "<Figure size 864x504 with 1 Axes>"
            ]
          },
          "metadata": {},
          "output_type": "display_data"
        }
      ],
      "source": [
        "# Q-Q Plot for Test Group\n",
        "sm.qqplot(test_purchases, line='s')\n",
        "plt.title('Q-Q Plot for Test Group', fontdict = {'fontsize': 20}, pad=20)\n",
        "plt.xlabel('Theoretical Quantities', fontdict = {'fontsize': 16}, labelpad=20)\n",
        "plt.ylabel('Purchases', fontdict = {'fontsize': 16}, labelpad=20)\n",
        "plt.show()"
      ]
    },
    {
      "cell_type": "code",
      "execution_count": 62,
      "metadata": {
        "colab": {
          "base_uri": "https://localhost:8080/",
          "height": 664
        },
        "id": "1g-YPxYRZdPD",
        "outputId": "446e82e1-1447-4870-b8b1-8cedf3a860f1"
      },
      "outputs": [
        {
          "data": {
            "image/png": "[encoded data removed]",
            "text/plain": [
              "<Figure size 864x504 with 1 Axes>"
            ]
          },
          "metadata": {},
          "output_type": "display_data"
        }
      ],
      "source": [
        "# Q-Q Plot for Control Group\n",
        "sm.qqplot(control_purchases, line='s')\n",
        "plt.title('QQ Plot for Control Group', fontdict = {'fontsize': 20}, pad=20)\n",
        "plt.xlabel('Theoretical Quantities', fontdict = {'fontsize': 16}, labelpad=20)\n",
        "plt.ylabel('Purchases', fontdict = {'fontsize': 16}, labelpad=20)\n",
        "plt.show()"
      ]
    },
    {
      "cell_type": "markdown",
      "metadata": {
        "id": "NqhuiuFYbrIn"
      },
      "source": [
        "The plots confirm that the data is not normal. Both samples are close to normality but are nonetheless skewed."
      ]
    },
    {
      "cell_type": "markdown",
      "metadata": {
        "id": "73H-hGT3HCCX"
      },
      "source": [
        "## Mann-Whitney U Test: Checking for Significance\n"
      ]
    },
    {
      "cell_type": "markdown",
      "metadata": {
        "id": "goGqbwxUeQG4"
      },
      "source": [
        "I chose to conduct the Mann-Whitney U test because it assumes that: \n",
        "\n",
        "1. The data is not normally distributed. \n",
        "2. The samples are independent of each other.\n",
        "3. The sample size is more than 20. \n",
        "\n",
        "It is the appropriate statistical test for this situation since the data ticks all the assumptions. "
      ]
    },
    {
      "cell_type": "code",
      "execution_count": 63,
      "metadata": {
        "colab": {
          "base_uri": "https://localhost:8080/"
        },
        "id": "F7TCIgyaCi8O",
        "outputId": "64684920-46af-45f2-f5de-dfb007c2683a"
      },
      "outputs": [
        {
          "data": {
            "text/plain": [
              "MannwhitneyuResult(statistic=405.0, pvalue=0.8155354572265037)"
            ]
          },
          "execution_count": 63,
          "metadata": {},
          "output_type": "execute_result"
        }
      ],
      "source": [
        "# Mann-Whitney U Test\n",
        "st.mannwhitneyu(x=test_purchases, y=control_purchases, alternative = 'two-sided')"
      ]
    },
    {
      "cell_type": "markdown",
      "metadata": {
        "id": "gLurWd5A4CVF"
      },
      "source": [
        "# Results"
      ]
    },
    {
      "cell_type": "markdown",
      "metadata": {
        "id": "lb8vLSflXKgs"
      },
      "source": [
        "I got a p-value of 0.82 (82%). It is more than 0.05 (alpha). Therefore, I cannot reject the null hypothesis. \n",
        "\n",
        "A p-value of 82% says that: \n",
        "\n",
        "* The difference between the average and maximum bidding styles is not statistically significant and probably occurred due to random chance.\n",
        "* There is an 82% chance that we will get a difference as big or bigger than -10.\n",
        "* We are just 18% sure that the average bidding led to any real change. When you think about it, 18% is not substantial enough.\n",
        "\n",
        "#### Limitations\n",
        "* The sample size of both groups was not equal. The control group had  1,066,894 participants more than the test group. The sample's difference may likely have affected the outcome (p-value = 0.82 ). Ideally, whoever ran the test should have waited for the sample size of both groups to reach the same number before ending it. Unfortunately, I am in no position to rectify the error. \n",
        "\n",
        "With the available data and outcome, we can infer that there is no difference between the average bidding style and the maximum bidding style. "
      ]
    }
  ],
  "metadata": {
    "colab": {
      "collapsed_sections": [],
      "name": "Hypothesis Testing.ipynb",
      "provenance": []
    },
    "interpreter": {
      "hash": "ad2bdc8ecc057115af97d19610ffacc2b4e99fae6737bb82f5d7fb13d2f2c186"
    },
    "kernelspec": {
      "display_name": "Python 3.9.12 ('base')",
      "language": "python",
      "name": "python3"
    },
    "language_info": {
      "codemirror_mode": {
        "name": "ipython",
        "version": 3
      },
      "file_extension": ".py",
      "mimetype": "text/x-python",
      "name": "python",
      "nbconvert_exporter": "python",
      "pygments_lexer": "ipython3",
      "version": "3.9.12"
    }
  },
  "nbformat": 4,
  "nbformat_minor": 0
}
